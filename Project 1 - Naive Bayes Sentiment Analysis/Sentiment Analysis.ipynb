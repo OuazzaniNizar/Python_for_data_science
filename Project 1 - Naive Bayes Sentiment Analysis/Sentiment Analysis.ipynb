{
 "cells": [
  {
   "cell_type": "markdown",
   "metadata": {},
   "source": [
    "# Sentiment Analysis based on movies/boooks rating\n"
   ]
  },
  {
   "cell_type": "code",
   "execution_count": 35,
   "metadata": {},
   "outputs": [],
   "source": [
    "import pandas as pd\n",
    "import numpy as np\n",
    "#import the natural language toolkit to get the stopwords\n",
    "import nltk\n",
    "#In computing, stop words are words which are filtered out before or \n",
    "#after processing of natural language data (text). Though \"stop words\" \n",
    "#usually refers to the most common words in a language\n",
    "from nltk.corpus import stopwords\n",
    "from sklearn.feature_extraction.text import TfidfVectorizer\n",
    "from sklearn import naive_bayes\n",
    "from sklearn.cross_validation import train_test_split\n",
    "from sklearn.metrics import roc_auc_score"
   ]
  },
  {
   "cell_type": "code",
   "execution_count": 36,
   "metadata": {},
   "outputs": [
    {
     "data": {
      "text/html": [
       "<div>\n",
       "<style scoped>\n",
       "    .dataframe tbody tr th:only-of-type {\n",
       "        vertical-align: middle;\n",
       "    }\n",
       "\n",
       "    .dataframe tbody tr th {\n",
       "        vertical-align: top;\n",
       "    }\n",
       "\n",
       "    .dataframe thead th {\n",
       "        text-align: right;\n",
       "    }\n",
       "</style>\n",
       "<table border=\"1\" class=\"dataframe\">\n",
       "  <thead>\n",
       "    <tr style=\"text-align: right;\">\n",
       "      <th></th>\n",
       "      <th>liked</th>\n",
       "      <th>comment</th>\n",
       "    </tr>\n",
       "  </thead>\n",
       "  <tbody>\n",
       "    <tr>\n",
       "      <th>0</th>\n",
       "      <td>0</td>\n",
       "      <td>In the beginning God created the heavens and t...</td>\n",
       "    </tr>\n",
       "    <tr>\n",
       "      <th>1</th>\n",
       "      <td>1</td>\n",
       "      <td>And God said, Let there be light, and there wa...</td>\n",
       "    </tr>\n",
       "    <tr>\n",
       "      <th>2</th>\n",
       "      <td>1</td>\n",
       "      <td>And God said, Let there be a vault between the...</td>\n",
       "    </tr>\n",
       "    <tr>\n",
       "      <th>3</th>\n",
       "      <td>1</td>\n",
       "      <td>And God said, Let the water under the sky be g...</td>\n",
       "    </tr>\n",
       "    <tr>\n",
       "      <th>4</th>\n",
       "      <td>1</td>\n",
       "      <td>Then God said, Let the land produce vegetation...</td>\n",
       "    </tr>\n",
       "  </tbody>\n",
       "</table>\n",
       "</div>"
      ],
      "text/plain": [
       "   liked                                            comment\n",
       "0      0  In the beginning God created the heavens and t...\n",
       "1      1  And God said, Let there be light, and there wa...\n",
       "2      1  And God said, Let there be a vault between the...\n",
       "3      1  And God said, Let the water under the sky be g...\n",
       "4      1  Then God said, Let the land produce vegetation..."
      ]
     },
     "execution_count": 36,
     "metadata": {},
     "output_type": "execute_result"
    }
   ],
   "source": [
    "df=pd.read_csv('sentiment_analysis_train_data.txt', sep='\\t', names=['liked','comment'])\n",
    "df.head()"
   ]
  },
  {
   "cell_type": "code",
   "execution_count": 37,
   "metadata": {},
   "outputs": [
    {
     "name": "stdout",
     "output_type": "stream",
     "text": [
      "{'am', 'those', \"you'd\", 'each', 'same', \"she's\", 'm', \"mustn't\", 'is', \"you've\", 'his', 'if', 've', 'had', 'didn', 'ourselves', 'more', 'haven', 'it', 'having', \"hasn't\", 'do', 'too', 'this', 'the', 'our', 'by', 'again', \"didn't\", 'for', \"won't\", 'shouldn', 'can', 'hadn', 'him', 'above', 'most', \"it's\", 'up', 'such', 'herself', 'these', 'as', 'have', 'are', 'wasn', \"shan't\", 'once', 'will', 'out', 'ma', 'from', 'of', 'in', 'on', \"wouldn't\", 'after', 'very', 'don', 'being', \"that'll\", 'but', 'not', 'why', 'all', 'before', 'only', 'won', 'her', 're', 'doesn', 'other', 'further', \"hadn't\", \"don't\", 'over', 'them', 'there', 'yourselves', 'myself', 'aren', 'd', \"you're\", 'because', 'doing', 'theirs', 'were', 'just', 'll', 'o', 'during', 'hasn', 'then', \"doesn't\", 's', 'at', 'under', 'mightn', 'couldn', 'yourself', 'who', 'yours', 'into', 'few', 'be', 'y', 'or', \"should've\", \"wasn't\", 'me', 'how', 'and', \"isn't\", 'whom', 'between', 'does', 'we', 'weren', 'some', 'wouldn', 'needn', 'down', 'below', 'now', 'ours', 'himself', 'hers', 'your', \"couldn't\", 'against', \"shouldn't\", 'when', \"aren't\", 'she', 'was', 'has', 'a', \"you'll\", 'that', 't', 'here', 'own', 'shan', 'you', 'isn', 'itself', 'he', 'to', 'my', 'off', 'no', 'while', 'so', 'than', 'their', \"haven't\", 'i', 'its', 'ain', 'through', 'any', 'what', 'until', 'where', 'they', 'nor', 'should', 'an', 'themselves', 'about', 'which', 'been', \"weren't\", 'mustn', \"mightn't\", 'did', \"needn't\", 'with', 'both'}\n"
     ]
    }
   ],
   "source": [
    "#we will perform the TFIDF vectorization\n",
    "stopset=set(stopwords.words('english'))\n",
    "print(stopset)"
   ]
  },
  {
   "cell_type": "code",
   "execution_count": 38,
   "metadata": {},
   "outputs": [],
   "source": [
    "#build the victorizer that will transform the comments into a vector\n",
    "#of 0/1 using the TFIDF method\n",
    "vectorizer=TfidfVectorizer(use_idf=True,lowercase=True,strip_accents='ascii',stop_words=stopset)\n"
   ]
  },
  {
   "cell_type": "code",
   "execution_count": 39,
   "metadata": {},
   "outputs": [
    {
     "name": "stdout",
     "output_type": "stream",
     "text": [
      "(30459, 7121) (30459,)\n"
     ]
    }
   ],
   "source": [
    "y=df.liked\n",
    "X=vectorizer.fit_transform(df.comment)\n",
    "print(X.shape,y.shape)\n"
   ]
  },
  {
   "cell_type": "markdown",
   "metadata": {},
   "source": [
    "After applying the vectorization on the comments, we get a matrix of (30459, 7121) which means that we have 30459 vectors (each of 7121 0/1, 1 if the word is present on the comment and 0 if not) representing the output of the TFIDF transformation on a given comment."
   ]
  },
  {
   "cell_type": "code",
   "execution_count": 40,
   "metadata": {},
   "outputs": [],
   "source": [
    "#we split our data\n",
    "X_train,X_test,y_train,y_test=train_test_split(X,y)"
   ]
  },
  {
   "cell_type": "code",
   "execution_count": 41,
   "metadata": {},
   "outputs": [
    {
     "data": {
      "text/plain": [
       "MultinomialNB(alpha=1.0, class_prior=None, fit_prior=True)"
      ]
     },
     "execution_count": 41,
     "metadata": {},
     "output_type": "execute_result"
    }
   ],
   "source": [
    "#we build the naive bayes classifier\n",
    "classifier=naive_bayes.MultinomialNB()\n",
    "#we train our model\n",
    "classifier.fit(X_train,y_train)"
   ]
  },
  {
   "cell_type": "code",
   "execution_count": 42,
   "metadata": {},
   "outputs": [
    {
     "name": "stdout",
     "output_type": "stream",
     "text": [
      "0.9988635795781062\n"
     ]
    }
   ],
   "source": [
    "#getting our model's accuracy with the roc_auc metric\n",
    "print(roc_auc_score(y_test,classifier.predict_proba(X_test)[:,1]))"
   ]
  },
  {
   "cell_type": "code",
   "execution_count": 46,
   "metadata": {},
   "outputs": [
    {
     "name": "stdout",
     "output_type": "stream",
     "text": [
      " [1]\n"
     ]
    }
   ],
   "source": [
    "#testing our model with our own comment\n",
    "movie_review=np.array(['The pursuit of happines is one of the best film i have ever seen'])\n",
    "movie_review_vector=vectorizer.transform(movie_review)\n",
    "print('',classifier.predict(movie_review_vector))\n"
   ]
  },
  {
   "cell_type": "code",
   "execution_count": 48,
   "metadata": {},
   "outputs": [
    {
     "name": "stdout",
     "output_type": "stream",
     "text": [
      " [0]\n"
     ]
    }
   ],
   "source": [
    "movie_review=np.array(['it\\'s horrible'])\n",
    "movie_review_vector=vectorizer.transform(movie_review)\n",
    "print('',classifier.predict(movie_review_vector))"
   ]
  },
  {
   "cell_type": "code",
   "execution_count": null,
   "metadata": {},
   "outputs": [],
   "source": []
  }
 ],
 "metadata": {
  "kernelspec": {
   "display_name": "Python 3",
   "language": "python",
   "name": "python3"
  },
  "language_info": {
   "codemirror_mode": {
    "name": "ipython",
    "version": 3
   },
   "file_extension": ".py",
   "mimetype": "text/x-python",
   "name": "python",
   "nbconvert_exporter": "python",
   "pygments_lexer": "ipython3",
   "version": "3.6.4"
  }
 },
 "nbformat": 4,
 "nbformat_minor": 2
}
