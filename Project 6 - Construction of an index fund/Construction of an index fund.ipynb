{
 "cells": [
  {
   "cell_type": "markdown",
   "metadata": {},
   "source": [
    "# Construction of an index fund"
   ]
  },
  {
   "cell_type": "markdown",
   "metadata": {},
   "source": [
    "An index fund is a selection of a small subset of the entire universe of stocks that we predict will closely track the index.\n",
    "\n",
    "The model we now present attempts to cluster the stocks into groups that are “similar.”\n",
    "Then one stock is chosen as the representative of each cluster.\n",
    "\n",
    "The input data consists of parameters ρij that indicate the similarity of\n",
    "each pair (i, j) of stocks in the market.\n",
    "\n",
    "We have the following variables:\n",
    "– yj is 1 if stock j is selected, 0 otherwise.\n",
    "– xij is 1 if stock i is in the cluster represented by stock j, 0 otherwise.\n",
    "\n",
    "The objective is to maximize the total similarity of all stocks to their representatives.\n",
    "\n",
    "• We require that each stock be assigned to exactly one cluster and that the total number of clusters be q.\n"
   ]
  },
  {
   "cell_type": "markdown",
   "metadata": {},
   "source": [
    "## Problem formulation"
   ]
  },
  {
   "cell_type": "markdown",
   "metadata": {},
   "source": [
    "- $n$ is the number of stocks\n",
    "- $ρ_{ij}$ indicates the similarity of each pair $(i, j)$ of stocks in the market.\n",
    "- $y_{j}$  ∈ {0,1}, 1 if stock $j$ is selected, 0 otherwise. $j=\\{1,2,..,n\\}$\n",
    "- $x_{ij}$ ∈ {0,1}, 1 if stock $i$ is in the cluster represented by stock $j$, 0 otherwise. $i=\\{1,2,..,n\\}$\n",
    "- $q$ is the number of clusters. We require that each stock be assigned to exactly one cluster.\n",
    "\n",
    "Then the formulation is the following\n",
    "$$\\begin{align}\n",
    "\\max \\quad & \\sum_{(i,j) \\text{ ∈ [1,n]}} ρ_{ij} x_{ij} \\\\\n",
    "\\text{s.t.} \\quad & \\sum_{j=1}^n y_{j} = q \\\\\n",
    "\\ \\quad & \\sum_{j=1}^n x_{ij} = 1 && i\\in \\{1,2,..,n\\} \\\\\n",
    "\\ \\quad &  x_{ij} \\leqslant y_{j} && i\\in \\{1,2,..,n\\} && j\\in \\{1,2,..,n\\} \\\\\n",
    "\\end{align}$$\n",
    "\n"
   ]
  },
  {
   "cell_type": "markdown",
   "metadata": {},
   "source": [
    "### Importing libraries\n",
    "- CVXPY : optimization problem solver"
   ]
  },
  {
   "cell_type": "code",
   "execution_count": 24,
   "metadata": {},
   "outputs": [],
   "source": [
    "import numpy as np\n",
    "import cvxpy as cp\n",
    "import matplotlib.pyplot as plt\n",
    "from pylab import rcParams\n",
    "import pandas as pd\n",
    "import itertools\n",
    "\n",
    "rcParams['figure.figsize'] = 16, 8"
   ]
  },
  {
   "cell_type": "markdown",
   "metadata": {},
   "source": [
    "### Loading historical data"
   ]
  },
  {
   "cell_type": "code",
   "execution_count": 292,
   "metadata": {},
   "outputs": [],
   "source": [
    "#Retrieving all the data from the .txt files\n",
    "vinci_stocks = pd.read_csv('VINCI_2019-01-08.txt', sep=\"\\t\")\n",
    "vinci_stocks = vinci_stocks.drop(columns=['ouv','haut','vol','devise','Unnamed: 7'])\n",
    "sg_stocks = pd.read_csv('SOCIETEGENERALE_2019-01-08.txt', sep=\"\\t\")\n",
    "sg_stocks = sg_stocks.drop(columns=['ouv','haut','vol','devise','Unnamed: 7'])\n",
    "sanofi_stocks = pd.read_csv('SANOFI_2019-01-08.txt', sep=\"\\t\")\n",
    "sanofi_stocks = sanofi_stocks.drop(columns=['ouv','haut','vol','devise','Unnamed: 7'])\n",
    "bouyg_stocks = pd.read_csv('BOUYGUES_2019-01-08.txt', sep=\"\\t\")\n",
    "bouyg_stocks = bouyg_stocks.drop(columns=['ouv','haut','vol','devise','Unnamed: 7'])\n",
    "bnp_stocks = pd.read_csv('BNPPARIBASBRA_2019-01-08.txt', sep=\"\\t\")\n",
    "bnp_stocks = bnp_stocks.drop(columns=['ouv','haut','vol','devise','Unnamed: 7'])\n",
    "quantum_stocks = pd.read_csv('QUANTUMGENOMICS_2019-01-09.txt', sep=\"\\t\")\n",
    "quantum_stocks = quantum_stocks.drop(columns=['ouv','haut','vol','devise','Unnamed: 7'])"
   ]
  },
  {
   "cell_type": "code",
   "execution_count": 293,
   "metadata": {},
   "outputs": [],
   "source": [
    "vinci_stocks.rename({'clot':'VINCI'},axis=1,inplace=True)\n",
    "bnp_stocks.rename({'clot':'BNP'},axis=1,inplace=True)\n",
    "sg_stocks.rename({'clot':'SG'},axis=1,inplace=True)\n",
    "sanofi_stocks.rename({'clot':'SANOFI'},axis=1,inplace=True)\n",
    "bouyg_stocks.rename({'clot':'BOUYG'},axis=1,inplace=True)\n",
    "quantum_stocks.rename({'clot':'QUANTUM'},axis=1,inplace=True)\n"
   ]
  },
  {
   "cell_type": "code",
   "execution_count": 294,
   "metadata": {},
   "outputs": [],
   "source": [
    "vinci=np.array(vinci_stocks['VINCI'])\n",
    "bouyg=np.array(bouyg_stocks['BOUYG'])\n",
    "sanofi=np.array(sanofi_stocks['SANOFI'])\n",
    "sg=np.array(sg_stocks['SG'])\n",
    "bnp=np.array(bnp_stocks['BNP'])\n",
    "quantum=np.array(quantum_stocks['QUANTUM'])"
   ]
  },
  {
   "cell_type": "markdown",
   "metadata": {},
   "source": [
    "### Computing the correlation matrix"
   ]
  },
  {
   "cell_type": "code",
   "execution_count": 340,
   "metadata": {},
   "outputs": [
    {
     "name": "stdout",
     "output_type": "stream",
     "text": [
      "       [vinci    -    bouyg   -    sanofi   -    sg   -    bnp    ]\n"
     ]
    },
    {
     "data": {
      "text/plain": [
       "array([[1.        , 0.69465691, 0.56456922, 0.42855814, 0.63032581],\n",
       "       [0.69465691, 1.        , 0.17303234, 0.76440501, 0.76653873],\n",
       "       [0.56456922, 0.17303234, 1.        , 0.2374724 , 0.42817254],\n",
       "       [0.42855814, 0.76440501, 0.2374724 , 1.        , 0.92116859],\n",
       "       [0.63032581, 0.76653873, 0.42817254, 0.92116859, 1.        ]])"
      ]
     },
     "execution_count": 340,
     "metadata": {},
     "output_type": "execute_result"
    }
   ],
   "source": [
    "correlation_matrix=np.corrcoef([vinci,bouyg,sanofi,sg,bnp])\n",
    "print('       [vinci    -    bouyg   -    sanofi   -    sg   -    bnp    ]')\n",
    "correlation_matrix"
   ]
  },
  {
   "cell_type": "code",
   "execution_count": 341,
   "metadata": {},
   "outputs": [],
   "source": [
    "correlation_vector=np.array([correlation_matrix[i,j] for i, j in itertools.product(range(4), range(4))])"
   ]
  },
  {
   "cell_type": "markdown",
   "metadata": {},
   "source": [
    "### Problem framing"
   ]
  },
  {
   "cell_type": "code",
   "execution_count": 342,
   "metadata": {},
   "outputs": [],
   "source": [
    "# Number of stocks\n",
    "n=5\n",
    "# Number of clusters\n",
    "q=2\n",
    "# x is a matrix of [n,n] boolean element\n",
    "x = cvxpy.Variable((n,n), boolean=True)\n",
    "#y is a vecotr of n boolean element\n",
    "y = cvxpy.Variable((n), boolean=True)\n",
    "#initilize a constraints list\n",
    "constraints=[]\n",
    "#sum of y vector is equal to the number of clusters\n",
    "constraints.append(cp.sum(y)==q)\n",
    "#inisialize a utility function\n",
    "utility_function=0\n",
    "for i in range(n):\n",
    "    x_i_cst=0\n",
    "    for j in range(n):\n",
    "        constraints.append(x[i][j]<=y[j])\n",
    "        x_i_cst+=x[i][j]\n",
    "        utility_function+=x[i][j]*correlation_matrix[i][j]\n",
    "    constraints.append(x_i_cst==1)\n"
   ]
  },
  {
   "cell_type": "markdown",
   "metadata": {},
   "source": [
    "### Problem solving"
   ]
  },
  {
   "cell_type": "code",
   "execution_count": 343,
   "metadata": {},
   "outputs": [
    {
     "name": "stdout",
     "output_type": "stream",
     "text": [
      "Iter\tLower Bound\tUpper Bound\tGap\n",
      "================================================\n",
      "\n",
      "ECOS 2.0.7 - (C) embotech GmbH, Zurich Switzerland, 2012-15. Web: www.embotech.com/ECOS\n",
      "\n",
      "It     pcost       dcost      gap   pres   dres    k/t    mu     step   sigma     IR    |   BT\n",
      " 0  -3.244e+00  -3.884e+01  +4e+01  8e-03  9e-01  1e+00  5e-01    ---    ---    1  1  - |  -  - \n",
      " 1  -3.467e+00  -7.674e+00  +5e+00  9e-04  3e-01  1e-01  6e-02  0.8807  1e-03   0  0  0 |  0  0\n",
      " 2  -4.119e+00  -5.072e+00  +1e+00  2e-04  6e-02  2e-02  1e-02  0.8441  8e-02   0  0  0 |  0  0\n",
      " 3  -4.226e+00  -4.477e+00  +3e-01  5e-05  2e-02  6e-03  4e-03  0.7632  3e-02   0  0  0 |  0  0\n",
      " 4  -4.288e+00  -4.332e+00  +5e-02  9e-06  3e-03  8e-04  6e-04  0.9085  9e-02   0  0  0 |  0  0\n",
      " 5  -4.317e+00  -4.319e+00  +2e-03  3e-07  1e-04  3e-05  2e-05  0.9808  2e-02   0  0  0 |  0  0\n",
      " 6  -4.318e+00  -4.318e+00  +2e-05  3e-09  1e-06  3e-07  3e-07  0.9890  1e-04   1  0  0 |  0  0\n",
      " 7  -4.318e+00  -4.318e+00  +2e-07  4e-11  1e-08  3e-09  3e-09  0.9890  1e-04   1  0  0 |  0  0\n",
      " 8  -4.318e+00  -4.318e+00  +3e-09  4e-13  1e-10  4e-11  3e-11  0.9890  1e-04   1  0  0 |  0  0\n",
      "\n",
      "OPTIMAL (within feastol=1.4e-10, reltol=6.2e-10, abstol=2.7e-09).\n",
      "Runtime: 0.000686 seconds.\n",
      "\n",
      "0 \t-4.32 \t\t-4.32 \t\t0.00\n",
      "status: optimal\n",
      "optimal value 4.3180331303322\n"
     ]
    }
   ],
   "source": [
    "index_fund_problem = cvxpy.Problem(cvxpy.Maximize(utility_function), constraints)\n",
    "index_fund_problem.solve(verbose=True)\n",
    "print(\"status:\", index_fund_problem.status)\n",
    "print(\"optimal value\", index_fund_problem.value)"
   ]
  },
  {
   "cell_type": "markdown",
   "metadata": {},
   "source": [
    "### Interpretating the solution "
   ]
  },
  {
   "cell_type": "code",
   "execution_count": 344,
   "metadata": {},
   "outputs": [
    {
     "name": "stdout",
     "output_type": "stream",
     "text": [
      "Clusters representatives : \n",
      "[0, 0, 1, 0, 1]\n",
      "Allocation matrix : \n",
      "[[0, 0, 0, 0, 1], [0, 0, 0, 0, 1], [0, 0, 1, 0, 0], [0, 0, 0, 0, 1], [0, 0, 0, 0, 1]]\n",
      "Allocation :\n",
      "VINCI  is represented by  BNP\n",
      "BOUYG  is represented by  BNP\n",
      "SANOFI  is represented by  SANOFI\n",
      "SG  is represented by  BNP\n",
      "BNP  is represented by  BNP\n"
     ]
    }
   ],
   "source": [
    "stocks=['VINCI','BOUYG','SANOFI','SG','BNP']\n",
    "print('Clusters representatives : ')\n",
    "clusters_elements=[1 if y.value[i]>0.9 else 0 for i in range(n)]\n",
    "print(clusters_elements)\n",
    "print('Allocation matrix : ')\n",
    "allocation=[[1 if x.value[i][j]>0.9 else 0 for j in range(n)] for i in range (n)]\n",
    "print(allocation)\n",
    "print('Allocation :')\n",
    "for i in range(n):\n",
    "    for j in range(n):\n",
    "        if allocation[i][j]==1 :\n",
    "            print(stocks[i],' is represented by ',stocks[j])\n"
   ]
  },
  {
   "cell_type": "markdown",
   "metadata": {},
   "source": [
    "# References\n",
    "\n",
    "- https://coral.ie.lehigh.edu/~ted/files/ie447/lectures/Lecture15.pdf, Financial Optimization ISE 347/447, Dr. Ted Ralphs."
   ]
  },
  {
   "cell_type": "code",
   "execution_count": null,
   "metadata": {},
   "outputs": [],
   "source": []
  }
 ],
 "metadata": {
  "kernelspec": {
   "display_name": "Python 3",
   "language": "python",
   "name": "python3"
  }
 },
 "nbformat": 4,
 "nbformat_minor": 2
}
